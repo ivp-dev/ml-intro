{
 "cells": [
  {
   "cell_type": "code",
   "execution_count": 14,
   "metadata": {},
   "outputs": [
    {
     "name": "stdout",
     "output_type": "stream",
     "text": [
      "date   5 days\n",
      "dtype: timedelta64[ns]\n"
     ]
    }
   ],
   "source": [
    "import pandas as pd\n",
    "\n",
    "df = pd.DataFrame([(\"2019-01-23\", 1), (\"2019-01-24\", 1), (\"2019-01-27\", 1),\n",
    "                  (\"2019-01-23\", 2), (\"2019-01-24\", 2), (\"2019-01-29\", 2)], columns=[\"date\", \"group\"])\n",
    "df.date = pd.to_datetime(df.date)\n",
    "\n",
    "\n",
    "print(df.groupby('group').diff().max())\n"
   ]
  }
 ],
 "metadata": {
  "interpreter": {
   "hash": "31f2aee4e71d21fbe5cf8b01ff0e069b9275f58929596ceb00d14d90e3e16cd6"
  },
  "kernelspec": {
   "display_name": "Python 3.8.9 64-bit",
   "language": "python",
   "name": "python3"
  },
  "language_info": {
   "codemirror_mode": {
    "name": "ipython",
    "version": 3
   },
   "file_extension": ".py",
   "mimetype": "text/x-python",
   "name": "python",
   "nbconvert_exporter": "python",
   "pygments_lexer": "ipython3",
   "version": "3.9.10"
  },
  "orig_nbformat": 4
 },
 "nbformat": 4,
 "nbformat_minor": 2
}
