{
 "cells": [
  {
   "cell_type": "markdown",
   "id": "6d6010da",
   "metadata": {},
   "source": [
    "# How to complete this assignment\n",
    "First, download [this Kaggle dataset](https://www.kaggle.com/hugomathien/soccer) and extract *sqlite* database. You may need to register at https://www.kaggle.com/ beforehand. Then complete 15 graded tasks below, the score is given in brackets. Finally submit the resulting `.ipynb` file to rs-app Auto-test.\n",
    "\n",
    "- Do not delete or rename the variables given before the inscription `#your code here`, they are needed for the correct verification.\n",
    "- Do not change the code in the last Notebook cell, it is required for the server check.\n",
    "- Your Notebook must run completely without errors to be graded! Please check everything before submission by going *Cell -> Run All*"
   ]
  },
  {
   "cell_type": "markdown",
   "id": "0dbd5f9a",
   "metadata": {},
   "source": [
    "## Some important notes\n",
    "- If you need to **calculate the number of \"something\"** that means we expect you to assign an Integer to the given variable\n",
    "- If you need to **make a list of \"something\"** we expect you to assign a Python list with appropriate values to the given variable\n",
    "- If you need to find a **specifiс player, day of the week, team, etc.** we expect you to assign a String with the full name of the entity to the given variable (`player_name`, day of week full name, `team_name`, etc.)"
   ]
  },
  {
   "cell_type": "code",
   "execution_count": null,
   "id": "f52b1bac",
   "metadata": {},
   "outputs": [],
   "source": [
    "import sqlite3\n",
    "import pandas as pd\n",
    "import os\n",
    "\n",
    "pd.set_option('display.max_column', None)"
   ]
  },
  {
   "cell_type": "code",
   "execution_count": null,
   "id": "8ebe6afd",
   "metadata": {},
   "outputs": [],
   "source": [
    "# Leave that code unchanged, it is required for the server check!\n",
    "db = sqlite3.connect(os.environ.get(\"DB_PATH\") or 'database.sqlite')"
   ]
  },
  {
   "cell_type": "code",
   "execution_count": null,
   "id": "9860d0d0",
   "metadata": {},
   "outputs": [],
   "source": [
    "# You may load the data from SQL table directly to the Pandas dataframe as\n",
    "player_data = pd.read_sql(\"SELECT * FROM Player;\", db)"
   ]
  },
  {
   "cell_type": "markdown",
   "id": "f8b23f3a",
   "metadata": {},
   "source": [
    "**Task 1 (0.25 point).** Calculate the number of players with a height between 180 and 190 inclusive"
   ]
  },
  {
   "cell_type": "code",
   "execution_count": null,
   "id": "7cd6f780",
   "metadata": {},
   "outputs": [],
   "source": [
    "players_180_190 = len(player_data[(\n",
    "    player_data.height >= 180) & (player_data.height <= 190)])"
   ]
  },
  {
   "cell_type": "markdown",
   "id": "5a39f3bc",
   "metadata": {},
   "source": [
    "**Task 2 (0.25 point).** Calculate the number of players born in 1980. <br>\n",
    "**Hint:** you may want to cast your 'birthday' column to DateTime type by [pandas.to_datetime](https://pandas.pydata.org/docs/reference/api/pandas.to_datetime.html)"
   ]
  },
  {
   "cell_type": "code",
   "execution_count": null,
   "id": "ff21f7a2",
   "metadata": {},
   "outputs": [],
   "source": [
    "players_1980 = len(player_data[pd.DatetimeIndex(player_data.birthday).year == 1980])\n"
   ]
  },
  {
   "cell_type": "markdown",
   "id": "70d1dea0",
   "metadata": {},
   "source": [
    "**Task 3 (0.25 point).** Make a list of the top 10 players with the highest weight sorted in descending order. If there are several players with the same weight put them in the lexicographic order by name."
   ]
  },
  {
   "cell_type": "code",
   "execution_count": null,
   "id": "b0dbdaf5",
   "metadata": {},
   "outputs": [],
   "source": [
    "highest_players = player_data.sort_values(['weight', 'player_name'], ascending=[False, True])['player_name'].head(10).values.tolist()\n",
    "print(highest_players)"
   ]
  },
  {
   "cell_type": "markdown",
   "id": "ff30607f",
   "metadata": {},
   "source": [
    "**Task 4 (0.5 point).** Make a list of tuples containing years along with the number of players born in that year from 1980 up to 1990. <br>\n",
    "**Structure example**: [(1980, 123), (1981, 140) ..., (1990, 83)] -> There were born 123 players in 1980, there were born 140 players in 1981 and etc."
   ]
  },
  {
   "cell_type": "code",
   "execution_count": null,
   "id": "9b609f1c",
   "metadata": {},
   "outputs": [],
   "source": [
    "years_born_players__grouped = player_data.groupby(\n",
    "    [pd.DatetimeIndex(player_data.birthday).year]).size()\n",
    "years_born_players = [(i, v) for i, v in years_born_players__grouped[(\n",
    "    years_born_players__grouped.index >= 1980) & (years_born_players__grouped.index <= 1990)].items()]"
   ]
  },
  {
   "cell_type": "markdown",
   "id": "33cbd931",
   "metadata": {},
   "source": [
    "**Task 5 (0.5 point).** Calculate the mean and the standard deviation of the players' **height** with the name **Adriano**. <br>\n",
    "**Note:** Name is represented by the first part of `player_name`."
   ]
  },
  {
   "cell_type": "code",
   "execution_count": null,
   "id": "614fac31",
   "metadata": {},
   "outputs": [],
   "source": [
    "adriano_mean, adriano_std = (\n",
    "    player_data[player_data.player_name.str.startswith('Adriano')]['height'].mean(),\n",
    "    player_data[player_data.player_name.str.startswith('Adriano')]['height'].std()\n",
    ")\n"
   ]
  },
  {
   "cell_type": "markdown",
   "id": "8a361dfd",
   "metadata": {},
   "source": [
    "**Task 6 (0.75 point).** How many players were born on each day of the week? Find the day of the week with the minimum number of players born."
   ]
  },
  {
   "cell_type": "code",
   "execution_count": 94,
   "id": "c140be4f",
   "metadata": {},
   "outputs": [],
   "source": [
    "dow_with_min_players_born = player_data.groupby([pd.DatetimeIndex(player_data.birthday).day_name()]).size().idxmin()"
   ]
  },
  {
   "cell_type": "markdown",
   "id": "dc7428be",
   "metadata": {},
   "source": [
    "**Task 7 (0.75 point).** Find a league with the most matches in total. If there are several leagues with the same amount of matches, take the first in the lexical order."
   ]
  },
  {
   "cell_type": "code",
   "execution_count": null,
   "id": "ff3113ac",
   "metadata": {},
   "outputs": [],
   "source": [
    "league_most_matches__data = pd.read_sql(\"SELECT name, count FROM League INNER JOIN (SELECT league_id, Count(*) as count from Match GROUP BY Match.league_id) as M ON League.id = M.league_id;\", db)\n",
    "league_most_matches = league_most_matches__data.sort_values(['count', 'name'], ascending=[False, True]).iloc[0]['name']"
   ]
  },
  {
   "cell_type": "markdown",
   "id": "97199b7d",
   "metadata": {},
   "source": [
    "**Task 8 (1.25 point).** Find a player who participated in the largest number of matches during the whole match history. Assign a `player_name` to the given variable"
   ]
  },
  {
   "cell_type": "code",
   "execution_count": null,
   "id": "ec31bc69",
   "metadata": {},
   "outputs": [],
   "source": [
    "max_matches_player__data = pd.read_sql(\" UNION ALL \".join([f\"SELECT id, home_player_{x} as player FROM Match WHERE home_player_{x} NOT NULL\" for x in range(1, 11)] + [f\"SELECT id, away_player_{x} as player FROM Match WHERE away_player_{x} NOT NULL\" for x in range(1, 11)]), db)\n",
    "max_matches_player = player_data[player_data.player_api_id == max_matches_player__data.groupby('player').size().idxmax()].iloc[0][\"player_name\"]"
   ]
  },
  {
   "cell_type": "markdown",
   "id": "dbc68bfe",
   "metadata": {},
   "source": [
    "**Task 9 (1.5 point).** List top-5 tuples of most correlated **player's characteristics** in the descending order of the absolute [Pearson's coefficient](https://en.wikipedia.org/wiki/Pearson_correlation_coefficient) value.\n",
    "\n",
    "**Note 1:** Players characteristics are all the columns in `Player_Attributes` table except `[id, player_fifa_api_id, player_api_id, date, preferred_foot, attacking_work_rate, defensive_work_rate]`). <br>\n",
    "**Note 2:** Exclude duplicated pairs from the list. E.g. ('gk_handling', 'gk_reflexes') and ('gk_reflexes', 'gk_handling') are duplicates, leave just one of them in the resulting list.\n",
    "\n",
    "**Hint:** You may use [dataframe.corr()](https://pandas.pydata.org/docs/reference/api/pandas.DataFrame.corr.html) for calculating pairwise Pearson correlation."
   ]
  },
  {
   "cell_type": "code",
   "execution_count": null,
   "id": "47c1412e",
   "metadata": {},
   "outputs": [],
   "source": [
    "top_correlated_features__data = pd.read_sql(\n",
    "    \"SELECT * FROM Player_Attributes\", db)\n",
    "top_correlated_features__exclude_columns = [\n",
    "    'id', 'player_api_id', 'player_fifa_api_id', 'date', 'preferred_foot', 'attacking_work_rate', 'defensive_work_rate']\n",
    "top_correlated_features__corr = top_correlated_features__data.loc[:, ~top_correlated_features__data.columns.isin(\n",
    "    top_correlated_features__exclude_columns)].corr().unstack().drop_duplicates().sort_values(ascending=False)\n",
    "top_correlated_features__corr = top_correlated_features__corr[top_correlated_features__corr.index.get_level_values(\n",
    "    0) != top_correlated_features__corr.index.get_level_values(1)]\n",
    "# answer\n",
    "top_correlated_features = top_correlated_features__corr.head(5).index.values\n"
   ]
  },
  {
   "cell_type": "markdown",
   "id": "7d3d8fd3",
   "metadata": {},
   "source": [
    "**Task 10 (2 points).** Find top-5 most similar players to **Neymar** whose names are given. The similarity is measured as [Euclidean distance](https://en.wikipedia.org/wiki/Euclidean_distance) between vectors of players' characteristics (described in the task above). Put their names in a vector in ascending order by Euclidean distance and sorted by `player_name` if the distance is the same<br>\n",
    "**Note 1:** There are many records for some players in the `Player_Attributes` table. You need to take the freshest data (characteristics with the most recent `date`). <br>\n",
    "**Note 2:** Use pure values of the characteristics even if you are aware of such preprocessing technics as normalization. <br>\n",
    "**Note 3:** Please avoid using any built-in methods for calculating the Euclidean distance between vectors, think about implementing your own."
   ]
  },
  {
   "cell_type": "code",
   "execution_count": null,
   "id": "fac5a571",
   "metadata": {},
   "outputs": [],
   "source": [
    "neymar_similarities = 0"
   ]
  },
  {
   "cell_type": "markdown",
   "id": "a3a7f878",
   "metadata": {},
   "source": [
    "**Task 11 (1 point).** Calculate the number of home matches played by the **Borussia Dortmund** team in **Germany 1. Bundesliga** in season **2008/2009**"
   ]
  },
  {
   "cell_type": "code",
   "execution_count": null,
   "id": "bdf5a267",
   "metadata": {},
   "outputs": [],
   "source": [
    "borussia_bundesliga_2008_2009_matches__data = pd.read_sql(\n",
    "    \"SELECT Count() as count FROM Match WHERE season = '2008/2009' and home_team_api_id = 9789\", db)\n",
    "borussia_bundesliga_2008_2009_matches = borussia_bundesliga_2008_2009_matches__data.iloc[0, 0]\n"
   ]
  },
  {
   "cell_type": "markdown",
   "id": "69dca9a5",
   "metadata": {},
   "source": [
    "**Task 12 (1 point).** Find a team having the most matches (both home and away!) in the **Germany 1. Bundesliga** in **2008/2009** season. Return number of matches."
   ]
  },
  {
   "cell_type": "code",
   "execution_count": null,
   "id": "9969ba5c",
   "metadata": {},
   "outputs": [],
   "source": [
    "team_most_matches_bundesliga_2008_2009__data = pd.read_sql(\n",
    "    \"SELECT MAX(count) as max FROM (SELECT team_api_id, count(match_api_id) as count FROM (SELECT match_api_id, home_team_api_id as team_api_id FROM Match WHERE season = '2008/2009' AND league_id = 7809 UNION SELECT match_api_id, away_team_api_id as team_api_id FROM Match WHERE season = '2008/2009' AND league_id = 7809) GROUP BY team_api_id)\", db)\n",
    "team_most_matches_bundesliga_2008_2009 = team_most_matches_bundesliga_2008_2009__data.iloc[\n",
    "    0, 0]\n"
   ]
  },
  {
   "cell_type": "markdown",
   "id": "2f3c65aa",
   "metadata": {},
   "source": [
    "**Task 13 (1 point).** Count total number of **Arsenal** matches (both home and away!) in the **2015/2016** season which they have won. <br><br>\n",
    "**Note:** Winning a game means scoring **more** goals than an opponent."
   ]
  },
  {
   "cell_type": "code",
   "execution_count": null,
   "id": "52456f34",
   "metadata": {},
   "outputs": [],
   "source": [
    "arsenal_won_matches_2015_2016_data = pd.read_sql(\n",
    "    \"SELECT Count() as count FROM Team INNER JOIN (Select match_api_id, season, home_team_api_id as team_api_id, (home_team_goal - away_team_goal > 0) as won FROM Match UNION Select match_api_id, season, away_team_api_id as team_api_id, (away_team_goal - home_team_goal > 0) as won FROM Match) as M on Team.team_api_id = M.team_api_id WHERE team_short_name = 'ARS' and won = 1 and season='2015/2016';\", db)\n",
    "arsenal_won_matches_2015_2016 = arsenal_won_matches_2015_2016_data.iloc[0, 0]"
   ]
  },
  {
   "cell_type": "markdown",
   "id": "d70d5b23",
   "metadata": {},
   "source": [
    "**Task 14 (2 points).** Find a team with the highest win rate in the **2015/2016** season. Win rate means won matches / all matches. If there are several teams with the highest win rate return the first by name in lexical order"
   ]
  },
  {
   "cell_type": "code",
   "execution_count": null,
   "id": "b1aa7db0",
   "metadata": {},
   "outputs": [],
   "source": [
    "team_highest_winrate_2015_2016__data = pd.read_sql(\"SELECT Team.team_api_id, team_long_name, team_short_name, MAX(rate) as rate_max FROM Team LEFT JOIN (SELECT team_api_id, SUM(won) as won_sum, COUNT(match_api_id) as match_count, (CAST(SUM(won) as float) / CAST(COUNT(match_api_id) as float)) as rate FROM (Select match_api_id, home_team_api_id as team_api_id, (home_team_goal - away_team_goal > 0) as won FROM Match WHERE season = '2015/2016' UNION Select match_api_id, away_team_api_id as team_api_id, (away_team_goal - home_team_goal > 0) as won FROM Match WHERE season = '2015/2016') GROUP BY team_api_id) M2 ON Team.team_api_id = M2.team_api_id\", db)\n",
    "team_highest_winrate_2015_2016 = (\n",
    "    team_highest_winrate_2015_2016__data.iloc[0, 1])\n"
   ]
  },
  {
   "cell_type": "markdown",
   "id": "f7f3b4f5",
   "metadata": {},
   "source": [
    "**Task 15 (2 points).** Determine the team with the maximum days' gap between matches in **England Premier League 2010/2011 season**. Return number of days in that gap. <br>\n",
    "**Note**: a *gap* means the number of days between two consecutive matches of the same team."
   ]
  },
  {
   "cell_type": "code",
   "execution_count": 178,
   "id": "a4c33e5f",
   "metadata": {},
   "outputs": [
    {
     "name": "stdout",
     "output_type": "stream",
     "text": [
      "2205\n"
     ]
    }
   ],
   "source": [
    "highest_gap_england_2010_2011__data = pd.read_sql('SELECT home_team_api_id as team_api_id, date FROM `Match` UNION ALL SELECT away_team_api_id as team_api_id, date FROM `Match`', db)\n",
    "highest_gap_england_2010_2011__data['date'] =  pd.to_datetime(highest_gap_england_2010_2011__data['date'])\n",
    "highest_gap_england_2010_2011 = highest_gap_england_2010_2011__data.groupby('team_api_id').diff().fillna(pd.Timedelta(seconds=0)).max().dt.days[0]\n",
    "print(highest_gap_england_2010_2011)"
   ]
  },
  {
   "cell_type": "code",
   "execution_count": null,
   "id": "3e0b3b87",
   "metadata": {},
   "outputs": [],
   "source": []
  },
  {
   "cell_type": "markdown",
   "id": "acecc77f",
   "metadata": {},
   "source": [
    "### Warning! Do not change anything in the area below"
   ]
  },
  {
   "cell_type": "code",
   "execution_count": null,
   "id": "94c3b9be",
   "metadata": {},
   "outputs": [],
   "source": [
    "with open('student_answers.txt', 'w') as file:\n",
    "    file.write(f\"{players_180_190}\\n\")\n",
    "    file.write(f\"{players_1980}\\n\")\n",
    "    file.write(f\"{highest_players}\\n\")\n",
    "    file.write(f\"{years_born_players}\\n\")\n",
    "    file.write(f\"{round(adriano_mean, 3)} {round(adriano_std, 3)}\\n\")\n",
    "    file.write(f\"{dow_with_min_players_born}\\n\")\n",
    "    file.write(f\"{league_most_matches}\\n\")\n",
    "    file.write(f\"{max_matches_player}\\n\")\n",
    "    file.write(f\"{';'.join(['%s,%s' % tup for tup in top_correlated_features])};\\n\")\n",
    "    file.write(f\"{neymar_similarities}\\n\")\n",
    "    file.write(f\"{borussia_bundesliga_2008_2009_matches}\\n\")\n",
    "    file.write(f\"{team_most_matches_bundesliga_2008_2009}\\n\")\n",
    "    file.write(f\"{arsenal_won_matches_2015_2016}\\n\")\n",
    "    file.write(f\"{team_highest_winrate_2015_2016}\\n\")\n",
    "    file.write(f\"{highest_gap_england_2010_2011}\\n\")"
   ]
  }
 ],
 "metadata": {
  "kernelspec": {
   "display_name": "Python 3 (ipykernel)",
   "language": "python",
   "name": "python3"
  },
  "language_info": {
   "codemirror_mode": {
    "name": "ipython",
    "version": 3
   },
   "file_extension": ".py",
   "mimetype": "text/x-python",
   "name": "python",
   "nbconvert_exporter": "python",
   "pygments_lexer": "ipython3",
   "version": "3.9.10"
  }
 },
 "nbformat": 4,
 "nbformat_minor": 5
}
